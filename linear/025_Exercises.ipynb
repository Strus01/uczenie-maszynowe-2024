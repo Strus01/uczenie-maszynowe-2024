{
 "cells": [
  {
   "cell_type": "markdown",
   "metadata": {},
   "source": [
    "# Exercises\n",
    "\n",
    "There are three exercises in this notebook:\n",
    "\n",
    "1. Use the cross-validation method to test the linear regression with different $\\alpha$ values, at least three.\n",
    "2. Implement a SGD method that will train the Lasso regression for 10 epochs.\n",
    "3. Extend the Fisher's classifier to work with two features. Use the class as the $y$."
   ]
  },
  {
   "cell_type": "markdown",
   "metadata": {},
   "source": [
    "## 1. Cross-validation linear regression\n",
    "\n",
    "You need to change the variable ``alpha`` to be a list of alphas. Next do a loop and finally compare the results."
   ]
  },
  {
   "cell_type": "code",
   "execution_count": 1,
   "metadata": {
    "ExecuteTime": {
     "end_time": "2024-03-24T19:36:59.211993Z",
     "start_time": "2024-03-24T19:36:59.133342Z"
    }
   },
   "outputs": [
    {
     "name": "stdout",
     "output_type": "stream",
     "text": [
      "Result for alpha = 0.1: w1: [[-101.72397081]] w2: [[1.16978757]]\n",
      "Result for alpha = 0.3: w1: [[-54.23704349]] w2: [[0.90096184]]\n",
      "Result for alpha = 0.5: w1: [[-36.97522016]] w2: [[0.80324169]]\n"
     ]
    }
   ],
   "source": [
    "import numpy as np\n",
    "\n",
    "x = np.array([188, 181, 197, 168, 167, 187, 178, 194, 140, 176, 168, 192, 173, 142, 176]).reshape(-1, 1).reshape(15,1)\n",
    "y = np.array([141, 106, 149, 59, 79, 136, 65, 136, 52, 87, 115, 140, 82, 69, 121]).reshape(-1, 1).reshape(15,1)\n",
    "\n",
    "x = np.asmatrix(np.c_[np.ones((15,1)),x])\n",
    "\n",
    "I = np.identity(2)\n",
    "alphas = [0.1, 0.3, 0.5] # change here\n",
    "results = []\n",
    "# add 1-3 line of code here\n",
    "for alpha in alphas:\n",
    "    w = np.linalg.inv(x.T*x + alpha * I)*x.T*y\n",
    "    w = w.ravel()\n",
    "    results.append(w)    \n",
    "\n",
    "# add 1-3 lines to compare the results\n",
    "for alpha, result in zip(alphas, results):\n",
    "    print(f'Result for alpha = {alpha}: w1: {result[:, 0]} w2: {result[:, 1]}')\n"
   ]
  },
  {
   "cell_type": "markdown",
   "metadata": {},
   "source": [
    "## 2. Implement based on the Ridge regression example, the Lasso regression.\n",
    "\n",
    "Please implement the SGD method and compare the results with the sklearn Lasso regression results. "
   ]
  },
  {
   "cell_type": "code",
   "outputs": [],
   "source": [
    "def sgd(X, y, lr=0.00015, n_iter=10, alpha=0.1):\n",
    "    X = X.copy()\n",
    "    X[:, 1:] = (X[:, 1:] - X[:, 1:].mean(axis=0)) / X[:, 1:].std(axis=0)\n",
    "    n_samples, n_features = x.shape\n",
    "    weights = np.zeros((n_features, 1))\n",
    "\n",
    "    for _ in range(n_iter):\n",
    "        for _ in range(n_samples):\n",
    "            i = np.random.randint(0, n_samples)\n",
    "            x_i = X[i, :].reshape(1, -1)\n",
    "            y_i = y[i, :].reshape(-1, 1)\n",
    "            pred = np.dot(x_i, weights)\n",
    "            error = pred - y_i\n",
    "\n",
    "            gradient = np.dot(x_i.T, error) + alpha * np.sign(weights)\n",
    "            gradient[0] = np.dot(x_i.T[0], error)\n",
    "\n",
    "            weights -= lr * gradient \n",
    "\n",
    "    return weights.reshape(-1, 1)\n"
   ],
   "metadata": {
    "collapsed": false,
    "ExecuteTime": {
     "end_time": "2024-03-24T19:36:59.229189Z",
     "start_time": "2024-03-24T19:36:59.218109Z"
    }
   },
   "execution_count": 2
  },
  {
   "cell_type": "code",
   "execution_count": 3,
   "metadata": {
    "ExecuteTime": {
     "end_time": "2024-03-24T19:36:59.245739Z",
     "start_time": "2024-03-24T19:36:59.231306Z"
    }
   },
   "outputs": [
    {
     "name": "stdout",
     "output_type": "stream",
     "text": [
      "SGD result: [2.23604076 0.58033432]\n",
      "Lasso result: [[-101.72397081    1.16978757]]\n"
     ]
    }
   ],
   "source": [
    "x = np.array([188, 181, 197, 168, 167, 187, 178, 194, 140, 176, 168, 192, 173, 142, 176]).reshape(-1, 1).reshape(15,1)\n",
    "y = np.array([141, 106, 149, 59, 79, 136, 65, 136, 52, 87, 115, 140, 82, 69, 121]).reshape(-1, 1).reshape(15,1)\n",
    "\n",
    "x = np.asmatrix(np.c_[np.ones((15,1)),x])\n",
    "\n",
    "I = np.identity(2)\n",
    "alpha = 0.1 \n",
    "\n",
    "sgd_result = sgd(x, y, alpha=alpha)\n",
    "print(f'SGD result: {sgd_result.ravel()}')\n",
    "\n",
    "lasso_result = np.linalg.inv(x.T*x + alpha * I)*x.T*y # update this line\n",
    "print(f'Lasso result: {lasso_result.ravel()}')"
   ]
  },
  {
   "cell_type": "code",
   "outputs": [
    {
     "data": {
      "text/plain": "<Figure size 640x480 with 1 Axes>",
      "image/png": "[encoded data removed]"
     },
     "metadata": {},
     "output_type": "display_data"
    },
    {
     "name": "stdout",
     "output_type": "stream",
     "text": [
      "MSE SGD: 659.6322166738045\n",
      "MSE LASSO: 426.0450770831748\n"
     ]
    }
   ],
   "source": [
    "import matplotlib.pyplot as plt\n",
    "from sklearn.metrics import mean_squared_error\n",
    "\n",
    "\n",
    "x_ = np.array([188, 181, 197, 168, 167, 187, 178, 194, 140, 176, 168, 192, 173, 142, 176])\n",
    "y_ = np.array([141, 106, 149, 59, 79, 136, 65, 136, 52, 87, 115, 140, 82, 69, 121])\n",
    "plt.scatter(x_, y_, color='g')\n",
    "plt.plot(x_, np.dot(x, lasso_result), color='b')\n",
    "plt.plot(x_, np.dot(x, sgd_result), color='r')\n",
    "plt.show()\n",
    "\n",
    "\n",
    "mse_lasso = mean_squared_error(y_, np.asarray(np.dot(x, lasso_result)))\n",
    "mse_sgd = mean_squared_error(y_, np.asarray(np.dot(x, sgd_result)))\n",
    "\n",
    "print(f'MSE SGD: {mse_sgd}')\n",
    "print(f'MSE LASSO: {mse_lasso}')"
   ],
   "metadata": {
    "collapsed": false,
    "ExecuteTime": {
     "end_time": "2024-03-24T19:36:59.857996Z",
     "start_time": "2024-03-24T19:36:59.247782Z"
    }
   },
   "execution_count": 4
  },
  {
   "cell_type": "markdown",
   "metadata": {},
   "source": [
    "## 3. Extend the Fisher's classifier\n",
    "\n",
    "Please extend the targets of the ``iris_data`` variable and use it as the $y$."
   ]
  },
  {
   "cell_type": "code",
   "execution_count": 5,
   "metadata": {
    "ExecuteTime": {
     "end_time": "2024-03-24T19:37:00.012832Z",
     "start_time": "2024-03-24T19:36:59.859614Z"
    }
   },
   "outputs": [
    {
     "data": {
      "text/plain": "array([[0.81321925, 1.12768702],\n       [0.71494807, 1.08837855],\n       [0.75425654, 1.04907007],\n       [0.73460231, 1.02941584],\n       [0.83287348, 1.10803278],\n       [0.89183619, 1.18664972],\n       [0.79356501, 1.02941584],\n       [0.79356501, 1.10803278],\n       [0.69529384, 0.99010737],\n       [0.73460231, 1.08837855],\n       [0.85252772, 1.18664972],\n       [0.79356501, 1.06872431],\n       [0.71494807, 1.06872431],\n       [0.71494807, 0.97045313],\n       [0.91149043, 1.26526666],\n       [0.99010737, 1.24561243],\n       [0.89183619, 1.18664972],\n       [0.81321925, 1.12768702],\n       [0.87218196, 1.24561243],\n       [0.87218196, 1.12768702],\n       [0.79356501, 1.18664972],\n       [0.85252772, 1.12768702],\n       [0.83287348, 1.02941584],\n       [0.77391078, 1.12768702],\n       [0.79356501, 1.06872431],\n       [0.71494807, 1.10803278],\n       [0.79356501, 1.10803278],\n       [0.81321925, 1.14734125],\n       [0.79356501, 1.14734125],\n       [0.75425654, 1.04907007],\n       [0.73460231, 1.06872431],\n       [0.79356501, 1.18664972],\n       [0.93114466, 1.14734125],\n       [0.9507989 , 1.20630396],\n       [0.73460231, 1.08837855],\n       [0.75425654, 1.10803278],\n       [0.81321925, 1.20630396],\n       [0.83287348, 1.08837855],\n       [0.71494807, 0.99010737],\n       [0.79356501, 1.12768702],\n       [0.81321925, 1.10803278],\n       [0.57736842, 1.0097616 ],\n       [0.75425654, 0.99010737],\n       [0.81321925, 1.10803278],\n       [0.87218196, 1.12768702],\n       [0.71494807, 1.06872431],\n       [0.87218196, 1.12768702],\n       [0.75425654, 1.02941584],\n       [0.85252772, 1.16699549],\n       [0.77391078, 1.10803278],\n       [0.75425654, 1.50111749],\n       [0.75425654, 1.38319208],\n       [0.73460231, 1.48146325],\n       [0.57736842, 1.20630396],\n       [0.6756396 , 1.40284631],\n       [0.6756396 , 1.24561243],\n       [0.77391078, 1.36353784],\n       [0.59702266, 1.08837855],\n       [0.69529384, 1.42250055],\n       [0.65598537, 1.14734125],\n       [0.51840572, 1.10803278],\n       [0.71494807, 1.2849209 ],\n       [0.55771419, 1.30457513],\n       [0.69529384, 1.32422937],\n       [0.69529384, 1.22595819],\n       [0.73460231, 1.44215478],\n       [0.71494807, 1.22595819],\n       [0.65598537, 1.26526666],\n       [0.55771419, 1.34388361],\n       [0.6166769 , 1.22595819],\n       [0.75425654, 1.2849209 ],\n       [0.6756396 , 1.32422937],\n       [0.6166769 , 1.36353784],\n       [0.6756396 , 1.32422937],\n       [0.69529384, 1.38319208],\n       [0.71494807, 1.42250055],\n       [0.6756396 , 1.46180902],\n       [0.71494807, 1.44215478],\n       [0.69529384, 1.30457513],\n       [0.63633113, 1.24561243],\n       [0.59702266, 1.20630396],\n       [0.59702266, 1.20630396],\n       [0.65598537, 1.26526666],\n       [0.65598537, 1.30457513],\n       [0.71494807, 1.18664972],\n       [0.79356501, 1.30457513],\n       [0.73460231, 1.44215478],\n       [0.57736842, 1.36353784],\n       [0.71494807, 1.22595819],\n       [0.6166769 , 1.20630396],\n       [0.63633113, 1.20630396],\n       [0.71494807, 1.32422937],\n       [0.63633113, 1.26526666],\n       [0.57736842, 1.10803278],\n       [0.65598537, 1.22595819],\n       [0.71494807, 1.24561243],\n       [0.69529384, 1.24561243],\n       [0.69529384, 1.34388361],\n       [0.6166769 , 1.12768702],\n       [0.6756396 , 1.24561243],\n       [0.77391078, 1.36353784],\n       [0.65598537, 1.26526666],\n       [0.71494807, 1.52077172],\n       [0.69529384, 1.36353784],\n       [0.71494807, 1.40284631],\n       [0.71494807, 1.6190429 ],\n       [0.6166769 , 1.08837855],\n       [0.69529384, 1.56008019],\n       [0.6166769 , 1.44215478],\n       [0.83287348, 1.54042596],\n       [0.75425654, 1.40284631],\n       [0.65598537, 1.38319208],\n       [0.71494807, 1.46180902],\n       [0.6166769 , 1.24561243],\n       [0.6756396 , 1.26526666],\n       [0.75425654, 1.38319208],\n       [0.71494807, 1.40284631],\n       [0.87218196, 1.63869714],\n       [0.63633113, 1.63869714],\n       [0.55771419, 1.30457513],\n       [0.75425654, 1.48146325],\n       [0.6756396 , 1.22595819],\n       [0.6756396 , 1.63869714],\n       [0.65598537, 1.36353784],\n       [0.77391078, 1.44215478],\n       [0.75425654, 1.54042596],\n       [0.6756396 , 1.34388361],\n       [0.71494807, 1.32422937],\n       [0.6756396 , 1.38319208],\n       [0.71494807, 1.54042596],\n       [0.6756396 , 1.57973443],\n       [0.87218196, 1.67800561],\n       [0.6756396 , 1.38319208],\n       [0.6756396 , 1.36353784],\n       [0.63633113, 1.32422937],\n       [0.71494807, 1.63869714],\n       [0.79356501, 1.36353784],\n       [0.73460231, 1.38319208],\n       [0.71494807, 1.30457513],\n       [0.73460231, 1.48146325],\n       [0.73460231, 1.44215478],\n       [0.73460231, 1.48146325],\n       [0.65598537, 1.26526666],\n       [0.75425654, 1.46180902],\n       [0.77391078, 1.44215478],\n       [0.71494807, 1.44215478],\n       [0.6166769 , 1.36353784],\n       [0.71494807, 1.40284631],\n       [0.79356501, 1.34388361],\n       [0.71494807, 1.2849209 ]])"
     },
     "execution_count": 5,
     "metadata": {},
     "output_type": "execute_result"
    }
   ],
   "source": [
    "import pandas as pd\n",
    "import numpy as np\n",
    "import matplotlib.pyplot as plt\n",
    "from sklearn.datasets import load_iris\n",
    "\n",
    "iris_data = load_iris()\n",
    "iris_df = pd.DataFrame(iris_data.data,columns=iris_data.feature_names)\n",
    "iris_df_target = pd.DataFrame(iris_data.target)\n",
    "\n",
    "x = iris_df[['sepal width (cm)', 'sepal length (cm)']].values \n",
    "y = iris_df_target.values \n",
    "\n",
    "dataset_size = np.size(y)\n",
    "\n",
    "mean_x, mean_y = np.mean(x), np.mean(y)\n",
    "\n",
    "SS_xy = np.sum(y * x) - dataset_size * mean_y * mean_x\n",
    "SS_xx = np.sum(x * x) - dataset_size * mean_x * mean_x\n",
    "\n",
    "a = SS_xy / SS_xx\n",
    "b = mean_y - a * mean_x\n",
    "\n",
    "\n",
    "y_pred = a * x + b\n",
    "\n",
    "y_pred"
   ]
  }
 ],
 "metadata": {
  "kernelspec": {
   "display_name": "Python 3",
   "language": "python",
   "name": "python3"
  },
  "language_info": {
   "codemirror_mode": {
    "name": "ipython",
    "version": 3
   },
   "file_extension": ".py",
   "mimetype": "text/x-python",
   "name": "python",
   "nbconvert_exporter": "python",
   "pygments_lexer": "ipython3",
   "version": "3.6.9"
  }
 },
 "nbformat": 4,
 "nbformat_minor": 4
}
