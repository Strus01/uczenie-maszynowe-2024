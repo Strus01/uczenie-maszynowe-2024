{
 "cells": [
  {
   "cell_type": "markdown",
   "metadata": {},
   "source": [
    "# Ensemble methods. Exercises\n",
    "\n",
    "\n",
    "In this section we have only two exercise:\n",
    "\n",
    "1. Find the best three classifier in the stacking method using the classifiers from scikit-learn package.\n",
    "\n",
    "2. Build arcing arc-x4 method. "
   ]
  },
  {
   "cell_type": "code",
   "execution_count": 1,
   "metadata": {
    "ExecuteTime": {
     "end_time": "2024-04-30T09:59:00.247934Z",
     "start_time": "2024-04-30T09:58:59.996260Z"
    }
   },
   "outputs": [],
   "source": [
    "%store -r data_set\n",
    "%store -r labels\n",
    "%store -r test_data_set\n",
    "%store -r test_labels\n",
    "%store -r unique_labels"
   ]
  },
  {
   "cell_type": "markdown",
   "metadata": {},
   "source": [
    "## Exercise 1: Find the best three classifier in the stacking method\n",
    "\n",
    "Please use the following classifiers:\n",
    "\n",
    "* Linear regression,\n",
    "* Nearest Neighbors,\n",
    "* Linear SVM,\n",
    "* Decision Tree,\n",
    "* Naive Bayes,\n",
    "* QDA."
   ]
  },
  {
   "cell_type": "code",
   "execution_count": 2,
   "metadata": {
    "ExecuteTime": {
     "end_time": "2024-04-30T09:59:01.591731Z",
     "start_time": "2024-04-30T09:59:00.252373Z"
    }
   },
   "outputs": [],
   "source": [
    "import numpy as np\n",
    "from sklearn.metrics import accuracy_score\n",
    "\n",
    "from sklearn.linear_model import LinearRegression\n",
    "from sklearn.neighbors import KNeighborsClassifier\n",
    "from sklearn.svm import SVC\n",
    "from sklearn.tree import DecisionTreeClassifier\n",
    "from sklearn.naive_bayes import GaussianNB\n",
    "from sklearn.discriminant_analysis import QuadraticDiscriminantAnalysis"
   ]
  },
  {
   "cell_type": "code",
   "execution_count": 3,
   "metadata": {
    "ExecuteTime": {
     "end_time": "2024-04-30T09:59:01.604819Z",
     "start_time": "2024-04-30T09:59:01.596509Z"
    }
   },
   "outputs": [],
   "source": [
    "def build_classifiers():\n",
    "    \n",
    "    # fill this part\n",
    "    classifiers = [LinearRegression(), KNeighborsClassifier(), SVC(), DecisionTreeClassifier(), GaussianNB(), QuadraticDiscriminantAnalysis()]\n",
    "    for classifier in classifiers:\n",
    "        classifier.fit(data_set, labels)\n",
    "\n",
    "    return classifiers # and here"
   ]
  },
  {
   "cell_type": "code",
   "execution_count": 4,
   "metadata": {
    "ExecuteTime": {
     "end_time": "2024-04-30T09:59:01.620362Z",
     "start_time": "2024-04-30T09:59:01.609463Z"
    }
   },
   "outputs": [],
   "source": [
    "def build_stacked_classifier(classifiers):\n",
    "    output = []\n",
    "    for classifier in classifiers:\n",
    "        output.append(classifier.predict(data_set))\n",
    "    output = np.array(output).reshape((130,3))\n",
    "    \n",
    "    # stacked classifier part:\n",
    "    stacked_classifier = DecisionTreeClassifier()\n",
    "    stacked_classifier.fit(output.reshape((130,3)), labels.reshape((130,)))\n",
    "    test_set = []\n",
    "    for classifier in classifiers:\n",
    "        test_set.append(classifier.predict(test_data_set))\n",
    "    test_set = np.array(test_set).reshape((len(test_set[0]),3))\n",
    "    predicted = stacked_classifier.predict(test_set)\n",
    "    return predicted"
   ]
  },
  {
   "cell_type": "code",
   "execution_count": 5,
   "metadata": {
    "ExecuteTime": {
     "end_time": "2024-04-30T09:59:03.127350Z",
     "start_time": "2024-04-30T09:59:01.623941Z"
    }
   },
   "outputs": [
    {
     "name": "stdout",
     "output_type": "stream",
     "text": [
      "Accuracy: 0.9: DecisionTreeClassifier() KNeighborsClassifier() QuadraticDiscriminantAnalysis()\n",
      "Accuracy: 0.9: GaussianNB() KNeighborsClassifier() QuadraticDiscriminantAnalysis()\n",
      "Accuracy: 0.9: QuadraticDiscriminantAnalysis() KNeighborsClassifier() DecisionTreeClassifier()\n",
      "Accuracy: 0.85: KNeighborsClassifier() SVC() GaussianNB()\n",
      "Accuracy: 0.85: KNeighborsClassifier() SVC() QuadraticDiscriminantAnalysis()\n",
      "Accuracy: 0.85: KNeighborsClassifier() DecisionTreeClassifier() QuadraticDiscriminantAnalysis()\n",
      "Accuracy: 0.85: KNeighborsClassifier() GaussianNB() QuadraticDiscriminantAnalysis()\n",
      "Accuracy: 0.85: KNeighborsClassifier() QuadraticDiscriminantAnalysis() DecisionTreeClassifier()\n",
      "Accuracy: 0.85: SVC() KNeighborsClassifier() GaussianNB()\n",
      "Accuracy: 0.85: SVC() KNeighborsClassifier() QuadraticDiscriminantAnalysis()\n",
      "Accuracy: 0.85: GaussianNB() KNeighborsClassifier() DecisionTreeClassifier()\n",
      "Accuracy: 0.85: GaussianNB() SVC() KNeighborsClassifier()\n",
      "Accuracy: 0.8: KNeighborsClassifier() SVC() DecisionTreeClassifier()\n",
      "Accuracy: 0.8: KNeighborsClassifier() GaussianNB() DecisionTreeClassifier()\n",
      "Accuracy: 0.8: SVC() KNeighborsClassifier() DecisionTreeClassifier()\n",
      "Accuracy: 0.8: SVC() GaussianNB() KNeighborsClassifier()\n",
      "Accuracy: 0.8: DecisionTreeClassifier() GaussianNB() QuadraticDiscriminantAnalysis()\n",
      "Accuracy: 0.8: GaussianNB() SVC() QuadraticDiscriminantAnalysis()\n",
      "Accuracy: 0.8: GaussianNB() DecisionTreeClassifier() QuadraticDiscriminantAnalysis()\n",
      "Accuracy: 0.8: GaussianNB() QuadraticDiscriminantAnalysis() DecisionTreeClassifier()\n",
      "Accuracy: 0.75: LinearRegression() KNeighborsClassifier() QuadraticDiscriminantAnalysis()\n",
      "Accuracy: 0.75: LinearRegression() DecisionTreeClassifier() QuadraticDiscriminantAnalysis()\n",
      "Accuracy: 0.75: SVC() DecisionTreeClassifier() QuadraticDiscriminantAnalysis()\n",
      "Accuracy: 0.75: SVC() GaussianNB() QuadraticDiscriminantAnalysis()\n",
      "Accuracy: 0.75: SVC() QuadraticDiscriminantAnalysis() DecisionTreeClassifier()\n",
      "Accuracy: 0.75: DecisionTreeClassifier() SVC() QuadraticDiscriminantAnalysis()\n",
      "Accuracy: 0.75: GaussianNB() SVC() DecisionTreeClassifier()\n",
      "Accuracy: 0.75: QuadraticDiscriminantAnalysis() SVC() DecisionTreeClassifier()\n",
      "Accuracy: 0.75: QuadraticDiscriminantAnalysis() GaussianNB() DecisionTreeClassifier()\n",
      "Accuracy: 0.7: LinearRegression() KNeighborsClassifier() DecisionTreeClassifier()\n",
      "Accuracy: 0.7: LinearRegression() KNeighborsClassifier() GaussianNB()\n",
      "Accuracy: 0.7: KNeighborsClassifier() LinearRegression() GaussianNB()\n",
      "Accuracy: 0.7: KNeighborsClassifier() LinearRegression() QuadraticDiscriminantAnalysis()\n",
      "Accuracy: 0.7: SVC() GaussianNB() DecisionTreeClassifier()\n",
      "Accuracy: 0.7: DecisionTreeClassifier() LinearRegression() QuadraticDiscriminantAnalysis()\n",
      "Accuracy: 0.7: GaussianNB() LinearRegression() KNeighborsClassifier()\n",
      "Accuracy: 0.65: LinearRegression() SVC() KNeighborsClassifier()\n",
      "Accuracy: 0.65: LinearRegression() GaussianNB() KNeighborsClassifier()\n",
      "Accuracy: 0.65: LinearRegression() QuadraticDiscriminantAnalysis() DecisionTreeClassifier()\n",
      "Accuracy: 0.65: KNeighborsClassifier() LinearRegression() DecisionTreeClassifier()\n",
      "Accuracy: 0.65: SVC() LinearRegression() KNeighborsClassifier()\n",
      "Accuracy: 0.65: SVC() LinearRegression() GaussianNB()\n",
      "Accuracy: 0.65: GaussianNB() LinearRegression() QuadraticDiscriminantAnalysis()\n",
      "Accuracy: 0.65: QuadraticDiscriminantAnalysis() LinearRegression() DecisionTreeClassifier()\n",
      "Accuracy: 0.6: LinearRegression() SVC() GaussianNB()\n",
      "Accuracy: 0.6: LinearRegression() SVC() QuadraticDiscriminantAnalysis()\n",
      "Accuracy: 0.6: LinearRegression() GaussianNB() QuadraticDiscriminantAnalysis()\n",
      "Accuracy: 0.6: SVC() LinearRegression() QuadraticDiscriminantAnalysis()\n",
      "Accuracy: 0.6: GaussianNB() LinearRegression() DecisionTreeClassifier()\n",
      "Accuracy: 0.55: LinearRegression() SVC() DecisionTreeClassifier()\n",
      "Accuracy: 0.55: LinearRegression() GaussianNB() DecisionTreeClassifier()\n",
      "Accuracy: 0.55: SVC() LinearRegression() DecisionTreeClassifier()\n",
      "Accuracy: 0.35: QuadraticDiscriminantAnalysis() DecisionTreeClassifier() LinearRegression()\n",
      "Accuracy: 0.3: LinearRegression() DecisionTreeClassifier() SVC()\n",
      "Accuracy: 0.3: KNeighborsClassifier() SVC() LinearRegression()\n",
      "Accuracy: 0.3: KNeighborsClassifier() DecisionTreeClassifier() LinearRegression()\n",
      "Accuracy: 0.3: KNeighborsClassifier() GaussianNB() LinearRegression()\n",
      "Accuracy: 0.3: KNeighborsClassifier() QuadraticDiscriminantAnalysis() LinearRegression()\n",
      "Accuracy: 0.3: SVC() KNeighborsClassifier() LinearRegression()\n",
      "Accuracy: 0.3: SVC() GaussianNB() LinearRegression()\n",
      "Accuracy: 0.3: SVC() QuadraticDiscriminantAnalysis() LinearRegression()\n",
      "Accuracy: 0.3: DecisionTreeClassifier() KNeighborsClassifier() LinearRegression()\n",
      "Accuracy: 0.3: DecisionTreeClassifier() SVC() LinearRegression()\n",
      "Accuracy: 0.3: DecisionTreeClassifier() GaussianNB() LinearRegression()\n",
      "Accuracy: 0.3: DecisionTreeClassifier() GaussianNB() SVC()\n",
      "Accuracy: 0.3: DecisionTreeClassifier() QuadraticDiscriminantAnalysis() LinearRegression()\n",
      "Accuracy: 0.3: GaussianNB() SVC() LinearRegression()\n",
      "Accuracy: 0.3: GaussianNB() QuadraticDiscriminantAnalysis() LinearRegression()\n",
      "Accuracy: 0.3: QuadraticDiscriminantAnalysis() KNeighborsClassifier() LinearRegression()\n",
      "Accuracy: 0.3: QuadraticDiscriminantAnalysis() SVC() LinearRegression()\n",
      "Accuracy: 0.3: QuadraticDiscriminantAnalysis() GaussianNB() LinearRegression()\n",
      "Accuracy: 0.25: LinearRegression() QuadraticDiscriminantAnalysis() SVC()\n",
      "Accuracy: 0.25: SVC() DecisionTreeClassifier() LinearRegression()\n",
      "Accuracy: 0.25: DecisionTreeClassifier() QuadraticDiscriminantAnalysis() SVC()\n",
      "Accuracy: 0.25: GaussianNB() KNeighborsClassifier() LinearRegression()\n",
      "Accuracy: 0.25: GaussianNB() DecisionTreeClassifier() LinearRegression()\n",
      "Accuracy: 0.25: QuadraticDiscriminantAnalysis() DecisionTreeClassifier() SVC()\n",
      "Accuracy: 0.25: QuadraticDiscriminantAnalysis() GaussianNB() SVC()\n",
      "Accuracy: 0.2: LinearRegression() GaussianNB() SVC()\n",
      "Accuracy: 0.2: DecisionTreeClassifier() LinearRegression() SVC()\n",
      "Accuracy: 0.2: DecisionTreeClassifier() KNeighborsClassifier() SVC()\n",
      "Accuracy: 0.15: LinearRegression() DecisionTreeClassifier() GaussianNB()\n",
      "Accuracy: 0.15: KNeighborsClassifier() GaussianNB() SVC()\n",
      "Accuracy: 0.15: QuadraticDiscriminantAnalysis() LinearRegression() SVC()\n",
      "Accuracy: 0.15: QuadraticDiscriminantAnalysis() KNeighborsClassifier() SVC()\n",
      "Accuracy: 0.1: LinearRegression() KNeighborsClassifier() SVC()\n",
      "Accuracy: 0.1: LinearRegression() DecisionTreeClassifier() KNeighborsClassifier()\n",
      "Accuracy: 0.1: KNeighborsClassifier() DecisionTreeClassifier() SVC()\n",
      "Accuracy: 0.1: KNeighborsClassifier() QuadraticDiscriminantAnalysis() SVC()\n",
      "Accuracy: 0.1: GaussianNB() DecisionTreeClassifier() SVC()\n",
      "Accuracy: 0.1: GaussianNB() QuadraticDiscriminantAnalysis() SVC()\n",
      "Accuracy: 0.1: QuadraticDiscriminantAnalysis() DecisionTreeClassifier() GaussianNB()\n",
      "Accuracy: 0.05: LinearRegression() QuadraticDiscriminantAnalysis() KNeighborsClassifier()\n",
      "Accuracy: 0.05: LinearRegression() QuadraticDiscriminantAnalysis() GaussianNB()\n",
      "Accuracy: 0.05: KNeighborsClassifier() LinearRegression() SVC()\n",
      "Accuracy: 0.05: SVC() DecisionTreeClassifier() GaussianNB()\n",
      "Accuracy: 0.05: DecisionTreeClassifier() LinearRegression() GaussianNB()\n",
      "Accuracy: 0.05: GaussianNB() LinearRegression() SVC()\n",
      "Accuracy: 0.05: GaussianNB() KNeighborsClassifier() SVC()\n",
      "Accuracy: 0.05: QuadraticDiscriminantAnalysis() LinearRegression() GaussianNB()\n",
      "Accuracy: 0.05: QuadraticDiscriminantAnalysis() DecisionTreeClassifier() KNeighborsClassifier()\n",
      "Accuracy: 0.0: KNeighborsClassifier() DecisionTreeClassifier() GaussianNB()\n",
      "Accuracy: 0.0: KNeighborsClassifier() QuadraticDiscriminantAnalysis() GaussianNB()\n",
      "Accuracy: 0.0: SVC() DecisionTreeClassifier() KNeighborsClassifier()\n",
      "Accuracy: 0.0: SVC() QuadraticDiscriminantAnalysis() KNeighborsClassifier()\n",
      "Accuracy: 0.0: SVC() QuadraticDiscriminantAnalysis() GaussianNB()\n",
      "Accuracy: 0.0: DecisionTreeClassifier() LinearRegression() KNeighborsClassifier()\n",
      "Accuracy: 0.0: DecisionTreeClassifier() KNeighborsClassifier() GaussianNB()\n",
      "Accuracy: 0.0: DecisionTreeClassifier() SVC() KNeighborsClassifier()\n",
      "Accuracy: 0.0: DecisionTreeClassifier() SVC() GaussianNB()\n",
      "Accuracy: 0.0: DecisionTreeClassifier() GaussianNB() KNeighborsClassifier()\n",
      "Accuracy: 0.0: DecisionTreeClassifier() QuadraticDiscriminantAnalysis() KNeighborsClassifier()\n",
      "Accuracy: 0.0: DecisionTreeClassifier() QuadraticDiscriminantAnalysis() GaussianNB()\n",
      "Accuracy: 0.0: GaussianNB() DecisionTreeClassifier() KNeighborsClassifier()\n",
      "Accuracy: 0.0: GaussianNB() QuadraticDiscriminantAnalysis() KNeighborsClassifier()\n",
      "Accuracy: 0.0: QuadraticDiscriminantAnalysis() LinearRegression() KNeighborsClassifier()\n",
      "Accuracy: 0.0: QuadraticDiscriminantAnalysis() KNeighborsClassifier() GaussianNB()\n",
      "Accuracy: 0.0: QuadraticDiscriminantAnalysis() SVC() KNeighborsClassifier()\n",
      "Accuracy: 0.0: QuadraticDiscriminantAnalysis() SVC() GaussianNB()\n",
      "Accuracy: 0.0: QuadraticDiscriminantAnalysis() GaussianNB() KNeighborsClassifier()\n"
     ]
    }
   ],
   "source": [
    "from itertools import permutations\n",
    "\n",
    "classifiers = build_classifiers()\n",
    "classifiers_results = {}\n",
    "\n",
    "for classifiers_permutation in permutations(classifiers, r=3):\n",
    "    predicted = build_stacked_classifier(classifiers_permutation)\n",
    "    accuracy = accuracy_score(test_labels, predicted)\n",
    "    permutation_name = ' '.join(str(classifier) for classifier in classifiers_permutation)\n",
    "    classifiers_results[permutation_name] = accuracy\n",
    "\n",
    "sorted_results = dict(sorted(classifiers_results.items(), key=lambda x: x[1], reverse=True))\n",
    "\n",
    "for permutation_name, accuracy in sorted_results.items():\n",
    "    print(f'Accuracy: {accuracy}: {permutation_name}')"
   ]
  },
  {
   "cell_type": "markdown",
   "metadata": {},
   "source": [
    "## Exercise 2: \n",
    "\n",
    "Use the boosting method and change the code to fullfilt the following requirements:\n",
    "\n",
    "* the weights should be calculated as:\n",
    "$w_{n}^{(t+1)}=\\frac{1+ I(y_{n}\\neq h_{t}(x_{n})}{\\sum_{i=1}^{N}1+I(y_{n}\\neq h_{t}(x_{n})}$,\n",
    "* the prediction is done with a voting method."
   ]
  },
  {
   "cell_type": "code",
   "execution_count": 6,
   "metadata": {
    "ExecuteTime": {
     "end_time": "2024-04-30T09:59:03.142795Z",
     "start_time": "2024-04-30T09:59:03.130392Z"
    }
   },
   "outputs": [],
   "source": [
    "import numpy as np\n",
    "from sklearn.tree import DecisionTreeClassifier\n",
    "\n",
    "# prepare data set\n",
    "\n",
    "def generate_data(sample_number, feature_number, label_number):\n",
    "    data_set = np.random.random_sample((sample_number, feature_number))\n",
    "    labels = np.random.choice(label_number, sample_number)\n",
    "    return data_set, labels\n",
    "\n",
    "labels = 2\n",
    "dimension = 2\n",
    "test_set_size = 1000\n",
    "train_set_size = 5000\n",
    "train_set, train_labels = generate_data(train_set_size, dimension, labels)\n",
    "test_set, test_labels = generate_data(test_set_size, dimension, labels)\n",
    "\n",
    "# init weights\n",
    "number_of_iterations = 10\n",
    "weights = np.ones((test_set_size,)) / test_set_size\n",
    "\n",
    "\n",
    "def train_model(classifier, weights):\n",
    "    return classifier.fit(X=test_set, y=test_labels, sample_weight=weights)\n",
    "\n",
    "def calculate_error(model):\n",
    "    predicted = model.predict(test_set)\n",
    "    I=calculate_accuracy_vector(predicted, test_labels)\n",
    "    Z=np.sum(I)\n",
    "    return (1+Z)/1.0\n",
    "\n",
    "def calculate_accuracy_vector(predicted, labels):\n",
    "    return [1 if predicted[i]==labels[i] else 0 for i in range(len(predicted))]"
   ]
  },
  {
   "cell_type": "markdown",
   "metadata": {},
   "source": [
    "Fill the two functions below:"
   ]
  },
  {
   "cell_type": "code",
   "execution_count": 7,
   "metadata": {
    "ExecuteTime": {
     "end_time": "2024-04-30T09:59:03.157995Z",
     "start_time": "2024-04-30T09:59:03.146419Z"
    }
   },
   "outputs": [],
   "source": [
    "def set_new_weights(model):\n",
    "    result = np.array(calculate_accuracy_vector(model.predict(test_set), test_labels))\n",
    "    return (result + 1) / result.sum()"
   ]
  },
  {
   "cell_type": "markdown",
   "metadata": {},
   "source": [
    "Train the classifier with the code below:"
   ]
  },
  {
   "cell_type": "code",
   "execution_count": 8,
   "metadata": {
    "ExecuteTime": {
     "end_time": "2024-04-30T09:59:03.204162Z",
     "start_time": "2024-04-30T09:59:03.161711Z"
    }
   },
   "outputs": [],
   "source": [
    "classifier = DecisionTreeClassifier(max_depth=1, random_state=1)\n",
    "classifier.fit(X=train_set, y=train_labels)\n",
    "alphas = []\n",
    "classifiers = []\n",
    "for iteration in range(number_of_iterations):\n",
    "    model = train_model(classifier, weights)\n",
    "    weights = set_new_weights(model)\n",
    "    classifiers.append(model)\n",
    "\n",
    "# print(weights)\n",
    "\n",
    "\n",
    "validate_x, validate_label = generate_data(1, dimension, labels)"
   ]
  },
  {
   "cell_type": "markdown",
   "metadata": {},
   "source": [
    "Set the validation data set:"
   ]
  },
  {
   "cell_type": "code",
   "execution_count": 9,
   "metadata": {
    "ExecuteTime": {
     "end_time": "2024-04-30T09:59:03.213906Z",
     "start_time": "2024-04-30T09:59:03.207085Z"
    }
   },
   "outputs": [],
   "source": [
    "validate_x, validate_label = generate_data(1, dimension, labels)"
   ]
  },
  {
   "cell_type": "markdown",
   "metadata": {},
   "source": [
    "Fill the prediction code:"
   ]
  },
  {
   "cell_type": "code",
   "execution_count": 10,
   "metadata": {
    "ExecuteTime": {
     "end_time": "2024-04-30T09:59:03.227216Z",
     "start_time": "2024-04-30T09:59:03.219942Z"
    }
   },
   "outputs": [],
   "source": [
    "def get_prediction(x):\n",
    "    predictions = np.array([classifier.predict(x) for classifier in classifiers])\n",
    "    return [np.argmax(np.bincount(predictions.flatten()))]"
   ]
  },
  {
   "cell_type": "markdown",
   "metadata": {},
   "source": [
    "Test it:"
   ]
  },
  {
   "cell_type": "code",
   "execution_count": 11,
   "metadata": {
    "ExecuteTime": {
     "end_time": "2024-04-30T09:59:03.262259Z",
     "start_time": "2024-04-30T09:59:03.230976Z"
    }
   },
   "outputs": [
    {
     "name": "stdout",
     "output_type": "stream",
     "text": [
      "1\n"
     ]
    }
   ],
   "source": [
    "prediction = get_prediction(validate_x)[0]\n",
    "\n",
    "print(prediction)"
   ]
  }
 ],
 "metadata": {
  "kernelspec": {
   "display_name": "Python 3",
   "language": "python",
   "name": "python3"
  },
  "language_info": {
   "codemirror_mode": {
    "name": "ipython",
    "version": 3
   },
   "file_extension": ".py",
   "mimetype": "text/x-python",
   "name": "python",
   "nbconvert_exporter": "python",
   "pygments_lexer": "ipython3",
   "version": "3.6.9"
  }
 },
 "nbformat": 4,
 "nbformat_minor": 4
}
