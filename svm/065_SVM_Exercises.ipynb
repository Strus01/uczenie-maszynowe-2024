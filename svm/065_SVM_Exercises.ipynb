{
 "cells": [
  {
   "cell_type": "markdown",
   "metadata": {},
   "source": [
    "# Exercises\n",
    "\n",
    "In this section we have two exercises:\n",
    "1. Implement the polynomial kernel.\n",
    "2. Implement the multiclass C-SVM."
   ]
  },
  {
   "cell_type": "markdown",
   "metadata": {},
   "source": [
    "## Polynomial kernel\n",
    "\n",
    "You need to extend the ``build_kernel`` function and implement the polynomial kernel if the ``kernel_type`` is set to 'poly'. The equation that needs to be implemented:\n",
    "\\begin{equation}\n",
    "K=(X^{T}*Y)^{d}.\n",
    "\\end{equation}"
   ]
  },
  {
   "cell_type": "code",
   "outputs": [],
   "source": [
    "from sklearn.datasets import load_iris\n",
    "import numpy as np\n",
    "from sklearn.model_selection import train_test_split\n",
    "import cvxopt"
   ],
   "metadata": {
    "collapsed": false,
    "ExecuteTime": {
     "end_time": "2024-05-18T13:00:21.512450Z",
     "start_time": "2024-05-18T13:00:19.455894Z"
    }
   },
   "execution_count": 1
  },
  {
   "cell_type": "code",
   "execution_count": 2,
   "metadata": {
    "ExecuteTime": {
     "end_time": "2024-05-18T13:00:22.386750Z",
     "start_time": "2024-05-18T13:00:22.377647Z"
    }
   },
   "outputs": [],
   "source": [
    "def build_kernel(data_set, kernel_type='linear', degree=2, coef=1):\n",
    "    kernel = np.dot(data_set, data_set.T)\n",
    "    if kernel_type == 'rbf':\n",
    "        sigma = 1.0\n",
    "        objects_count = len(data_set)\n",
    "        b = np.ones((len(data_set), 1))\n",
    "        kernel -= 0.5 * (np.dot((np.diag(kernel)*np.ones((1, objects_count))).T, b.T)\n",
    "                         + np.dot(b, (np.diag(kernel) * np.ones((1, objects_count))).T.T))\n",
    "        kernel = np.exp(kernel / (2. * sigma ** 2))\n",
    "    elif kernel_type == 'poly':\n",
    "        kernel = (kernel + coef) ** degree\n",
    "    return kernel"
   ]
  },
  {
   "cell_type": "markdown",
   "metadata": {},
   "source": [
    "## Implement a multiclass C-SVM\n",
    "\n",
    "Use the classification method that we used in notebook 7.3 and IRIS dataset to build a multiclass C-SVM classifier. Most implementation is about a function that will return the proper data set that need to be used for the prediction. You need to implement:\n",
    "- ``choose_set_for_label``\n",
    "- ``get_labels_count``"
   ]
  },
  {
   "cell_type": "code",
   "execution_count": 16,
   "metadata": {
    "ExecuteTime": {
     "end_time": "2024-05-18T13:23:32.289355Z",
     "start_time": "2024-05-18T13:23:32.277632Z"
    }
   },
   "outputs": [],
   "source": [
    "def choose_set_for_label(data_set, labels, classes):\n",
    "    selected_indexes = np.where(np.isin(labels, classes))[0]\n",
    "    selected_labels = labels[selected_indexes]\n",
    "    selected_data_set = data_set[selected_indexes]\n",
    "    train_labels = np.where(selected_labels == classes[0], -1, 1)\n",
    "    return selected_data_set, train_labels"
   ]
  },
  {
   "cell_type": "code",
   "execution_count": 17,
   "metadata": {
    "ExecuteTime": {
     "end_time": "2024-05-18T13:23:32.827287Z",
     "start_time": "2024-05-18T13:23:32.820393Z"
    }
   },
   "outputs": [],
   "source": [
    "def get_labels_count(data_set):\n",
    "    return len(np.unique(data_set))"
   ]
  },
  {
   "cell_type": "markdown",
   "source": [
    "Use the code that we have implemented earlier:"
   ],
   "metadata": {
    "collapsed": false
   }
  },
  {
   "cell_type": "code",
   "execution_count": 14,
   "metadata": {
    "ExecuteTime": {
     "end_time": "2024-05-18T13:11:59.662208Z",
     "start_time": "2024-05-18T13:11:59.641429Z"
    }
   },
   "outputs": [],
   "source": [
    "def train(train_data_set, train_labels, kernel_type='linear', C=10, threshold=1e-5):\n",
    "    kernel = build_kernel(train_data_set, kernel_type=kernel_type)\n",
    "    objects_count = len(train_data_set)\n",
    "    \n",
    "    P = train_labels * train_labels.transpose() * kernel\n",
    "    q = -np.ones((objects_count, 1))\n",
    "    G = np.concatenate((np.eye(objects_count), -np.eye(objects_count)))\n",
    "    h = np.concatenate((C * np.ones((objects_count, 1)), np.zeros((objects_count, 1))))\n",
    "\n",
    "    A = train_labels.reshape(1, objects_count)\n",
    "    A = A.astype(float)\n",
    "    b = 0.0\n",
    "\n",
    "    sol = cvxopt.solvers.qp(cvxopt.matrix(P), cvxopt.matrix(q), cvxopt.matrix(G), cvxopt.matrix(h), cvxopt.matrix(A), cvxopt.matrix(b))\n",
    "\n",
    "    lambdas = np.array(sol['x'])\n",
    "\n",
    "    support_vectors_id = np.where(lambdas > threshold)[0]\n",
    "    vector_number = len(support_vectors_id)\n",
    "    support_vectors = train_data_set[support_vectors_id, :]\n",
    "\n",
    "    lambdas = lambdas[support_vectors_id]\n",
    "    targets = train_labels[support_vectors_id]\n",
    "\n",
    "    b = np.sum(targets)\n",
    "    for n in range(vector_number):\n",
    "        b -= np.sum(lambdas * targets * np.reshape(kernel[support_vectors_id[n], support_vectors_id], (vector_number, 1)))\n",
    "    b /= len(lambdas)\n",
    "\n",
    "    return lambdas, support_vectors, support_vectors_id, b, targets, vector_number\n",
    "\n",
    "def build_kernel(data_set, kernel_type='linear'):\n",
    "    kernel = np.dot(data_set, data_set.T)\n",
    "    if kernel_type == 'rbf':\n",
    "        sigma = 1.0\n",
    "        objects_count = len(data_set)\n",
    "        b = np.ones((len(data_set), 1))\n",
    "        kernel -= 0.5 * (np.dot((np.diag(kernel)*np.ones((1, objects_count))).T, b.T)\n",
    "                         + np.dot(b, (np.diag(kernel) * np.ones((1, objects_count))).T.T))\n",
    "        kernel = np.exp(kernel / (2. * sigma ** 2))\n",
    "    return kernel\n",
    "\n",
    "def classify_rbf(test_data_set, train_data_set, lambdas, targets, b, vector_number, support_vectors, support_vectors_id):\n",
    "    kernel = np.dot(test_data_set, support_vectors.T)\n",
    "    sigma = 1.0\n",
    "    #K = np.dot(test_data_set, support_vectors.T)\n",
    "    #kernel = build_kernel(train_data_set, kernel_type='rbf')\n",
    "    c = (1. / sigma * np.sum(test_data_set ** 2, axis=1) * np.ones((1, np.shape(test_data_set)[0]))).T\n",
    "    c = np.dot(c, np.ones((1, np.shape(kernel)[1])))\n",
    "    #aa = np.dot((np.diag(K)*np.ones((1,len(test_data_set)))).T[support_vectors_id], np.ones((1, np.shape(K)[0]))).T\n",
    "    sv = (np.diag(np.dot(train_data_set, train_data_set.T))*np.ones((1,len(train_data_set)))).T[support_vectors_id]\n",
    "    aa = np.dot(sv,np.ones((1,np.shape(kernel)[0]))).T\n",
    "    kernel = kernel - 0.5 * c - 0.5 * aa\n",
    "    kernel = np.exp(kernel / (2. * sigma ** 2))\n",
    "\n",
    "    y = np.zeros((np.shape(test_data_set)[0], 1))\n",
    "    for j in range(np.shape(test_data_set)[0]):\n",
    "        for i in range(vector_number):\n",
    "            y[j] += lambdas[i] * targets[i] * kernel[j, i]\n",
    "        y[j] += b\n",
    "    return np.sign(y)"
   ]
  },
  {
   "cell_type": "code",
   "execution_count": 15,
   "metadata": {
    "ExecuteTime": {
     "end_time": "2024-05-18T13:12:02.641044Z",
     "start_time": "2024-05-18T13:12:00.356356Z"
    }
   },
   "outputs": [
    {
     "ename": "ValueError",
     "evalue": "Rank(A) < p or Rank([P; A; G]) < n",
     "output_type": "error",
     "traceback": [
      "\u001B[0;31m---------------------------------------------------------------------------\u001B[0m",
      "\u001B[0;31mArithmeticError\u001B[0m                           Traceback (most recent call last)",
      "File \u001B[0;32m~/projects/ml/venv/lib/python3.10/site-packages/cvxopt/misc.py:1429\u001B[0m, in \u001B[0;36mkkt_chol2.<locals>.factor\u001B[0;34m(W, H, Df)\u001B[0m\n\u001B[1;32m   1428\u001B[0m \u001B[38;5;28;01mif\u001B[39;00m \u001B[38;5;28mtype\u001B[39m(F[\u001B[38;5;124m'\u001B[39m\u001B[38;5;124mS\u001B[39m\u001B[38;5;124m'\u001B[39m]) \u001B[38;5;129;01mis\u001B[39;00m matrix: \n\u001B[0;32m-> 1429\u001B[0m     \u001B[43mlapack\u001B[49m\u001B[38;5;241;43m.\u001B[39;49m\u001B[43mpotrf\u001B[49m\u001B[43m(\u001B[49m\u001B[43mF\u001B[49m\u001B[43m[\u001B[49m\u001B[38;5;124;43m'\u001B[39;49m\u001B[38;5;124;43mS\u001B[39;49m\u001B[38;5;124;43m'\u001B[39;49m\u001B[43m]\u001B[49m\u001B[43m)\u001B[49m \n\u001B[1;32m   1430\u001B[0m \u001B[38;5;28;01melse\u001B[39;00m:\n",
      "\u001B[0;31mArithmeticError\u001B[0m: 17",
      "\nDuring handling of the above exception, another exception occurred:\n",
      "\u001B[0;31mArithmeticError\u001B[0m                           Traceback (most recent call last)",
      "File \u001B[0;32m~/projects/ml/venv/lib/python3.10/site-packages/cvxopt/coneprog.py:2065\u001B[0m, in \u001B[0;36mconeqp\u001B[0;34m(P, q, G, h, dims, A, b, initvals, kktsolver, xnewcopy, xdot, xaxpy, xscal, ynewcopy, ydot, yaxpy, yscal, **kwargs)\u001B[0m\n\u001B[1;32m   2064\u001B[0m \u001B[38;5;28;01mfor\u001B[39;00m rti \u001B[38;5;129;01min\u001B[39;00m W[\u001B[38;5;124m'\u001B[39m\u001B[38;5;124mrti\u001B[39m\u001B[38;5;124m'\u001B[39m]: rti[::rti\u001B[38;5;241m.\u001B[39msize[\u001B[38;5;241m0\u001B[39m]\u001B[38;5;241m+\u001B[39m\u001B[38;5;241m1\u001B[39m ] \u001B[38;5;241m=\u001B[39m \u001B[38;5;241m1.0\u001B[39m\n\u001B[0;32m-> 2065\u001B[0m \u001B[38;5;28;01mtry\u001B[39;00m: f \u001B[38;5;241m=\u001B[39m \u001B[43mkktsolver\u001B[49m\u001B[43m(\u001B[49m\u001B[43mW\u001B[49m\u001B[43m)\u001B[49m\n\u001B[1;32m   2066\u001B[0m \u001B[38;5;28;01mexcept\u001B[39;00m \u001B[38;5;167;01mArithmeticError\u001B[39;00m:\n",
      "File \u001B[0;32m~/projects/ml/venv/lib/python3.10/site-packages/cvxopt/coneprog.py:1981\u001B[0m, in \u001B[0;36mconeqp.<locals>.kktsolver\u001B[0;34m(W)\u001B[0m\n\u001B[1;32m   1980\u001B[0m \u001B[38;5;28;01mdef\u001B[39;00m \u001B[38;5;21mkktsolver\u001B[39m(W):\n\u001B[0;32m-> 1981\u001B[0m     \u001B[38;5;28;01mreturn\u001B[39;00m \u001B[43mfactor\u001B[49m\u001B[43m(\u001B[49m\u001B[43mW\u001B[49m\u001B[43m,\u001B[49m\u001B[43m \u001B[49m\u001B[43mP\u001B[49m\u001B[43m)\u001B[49m\n",
      "File \u001B[0;32m~/projects/ml/venv/lib/python3.10/site-packages/cvxopt/misc.py:1444\u001B[0m, in \u001B[0;36mkkt_chol2.<locals>.factor\u001B[0;34m(W, H, Df)\u001B[0m\n\u001B[1;32m   1443\u001B[0m \u001B[38;5;28;01mif\u001B[39;00m \u001B[38;5;28mtype\u001B[39m(F[\u001B[38;5;124m'\u001B[39m\u001B[38;5;124mS\u001B[39m\u001B[38;5;124m'\u001B[39m]) \u001B[38;5;129;01mis\u001B[39;00m matrix: \n\u001B[0;32m-> 1444\u001B[0m     \u001B[43mlapack\u001B[49m\u001B[38;5;241;43m.\u001B[39;49m\u001B[43mpotrf\u001B[49m\u001B[43m(\u001B[49m\u001B[43mF\u001B[49m\u001B[43m[\u001B[49m\u001B[38;5;124;43m'\u001B[39;49m\u001B[38;5;124;43mS\u001B[39;49m\u001B[38;5;124;43m'\u001B[39;49m\u001B[43m]\u001B[49m\u001B[43m)\u001B[49m \n\u001B[1;32m   1445\u001B[0m \u001B[38;5;28;01melse\u001B[39;00m:\n",
      "\u001B[0;31mArithmeticError\u001B[0m: 17",
      "\nDuring handling of the above exception, another exception occurred:\n",
      "\u001B[0;31mValueError\u001B[0m                                Traceback (most recent call last)",
      "Cell \u001B[0;32mIn[15], line 6\u001B[0m\n\u001B[1;32m      3\u001B[0m data_set \u001B[38;5;241m=\u001B[39m iris\u001B[38;5;241m.\u001B[39mdata\n\u001B[1;32m      5\u001B[0m train_data_set, test_data_set, train_labels, test_labels \u001B[38;5;241m=\u001B[39m choose_set_for_label(data_set, labels)\n\u001B[0;32m----> 6\u001B[0m lambdas, support_vectors, support_vectors_id, b, targets, vector_number \u001B[38;5;241m=\u001B[39m \u001B[43mtrain\u001B[49m\u001B[43m(\u001B[49m\u001B[43mtrain_data_set\u001B[49m\u001B[43m,\u001B[49m\u001B[43m \u001B[49m\u001B[43mtrain_labels\u001B[49m\u001B[43m,\u001B[49m\u001B[43m \u001B[49m\u001B[43mkernel_type\u001B[49m\u001B[38;5;241;43m=\u001B[39;49m\u001B[38;5;124;43m'\u001B[39;49m\u001B[38;5;124;43mrbf\u001B[39;49m\u001B[38;5;124;43m'\u001B[39;49m\u001B[43m)\u001B[49m\n\u001B[1;32m      7\u001B[0m predicted \u001B[38;5;241m=\u001B[39m classify_rbf(test_data_set, train_data_set, lambdas, targets, b, vector_number, support_vectors, support_vectors_id)\n\u001B[1;32m      8\u001B[0m predicted \u001B[38;5;241m=\u001B[39m \u001B[38;5;28mlist\u001B[39m(predicted\u001B[38;5;241m.\u001B[39mastype(\u001B[38;5;28mint\u001B[39m))\n",
      "Cell \u001B[0;32mIn[14], line 14\u001B[0m, in \u001B[0;36mtrain\u001B[0;34m(train_data_set, train_labels, kernel_type, C, threshold)\u001B[0m\n\u001B[1;32m     11\u001B[0m A \u001B[38;5;241m=\u001B[39m A\u001B[38;5;241m.\u001B[39mastype(\u001B[38;5;28mfloat\u001B[39m)\n\u001B[1;32m     12\u001B[0m b \u001B[38;5;241m=\u001B[39m \u001B[38;5;241m0.0\u001B[39m\n\u001B[0;32m---> 14\u001B[0m sol \u001B[38;5;241m=\u001B[39m \u001B[43mcvxopt\u001B[49m\u001B[38;5;241;43m.\u001B[39;49m\u001B[43msolvers\u001B[49m\u001B[38;5;241;43m.\u001B[39;49m\u001B[43mqp\u001B[49m\u001B[43m(\u001B[49m\u001B[43mcvxopt\u001B[49m\u001B[38;5;241;43m.\u001B[39;49m\u001B[43mmatrix\u001B[49m\u001B[43m(\u001B[49m\u001B[43mP\u001B[49m\u001B[43m)\u001B[49m\u001B[43m,\u001B[49m\u001B[43m \u001B[49m\u001B[43mcvxopt\u001B[49m\u001B[38;5;241;43m.\u001B[39;49m\u001B[43mmatrix\u001B[49m\u001B[43m(\u001B[49m\u001B[43mq\u001B[49m\u001B[43m)\u001B[49m\u001B[43m,\u001B[49m\u001B[43m \u001B[49m\u001B[43mcvxopt\u001B[49m\u001B[38;5;241;43m.\u001B[39;49m\u001B[43mmatrix\u001B[49m\u001B[43m(\u001B[49m\u001B[43mG\u001B[49m\u001B[43m)\u001B[49m\u001B[43m,\u001B[49m\u001B[43m \u001B[49m\u001B[43mcvxopt\u001B[49m\u001B[38;5;241;43m.\u001B[39;49m\u001B[43mmatrix\u001B[49m\u001B[43m(\u001B[49m\u001B[43mh\u001B[49m\u001B[43m)\u001B[49m\u001B[43m,\u001B[49m\u001B[43m \u001B[49m\u001B[43mcvxopt\u001B[49m\u001B[38;5;241;43m.\u001B[39;49m\u001B[43mmatrix\u001B[49m\u001B[43m(\u001B[49m\u001B[43mA\u001B[49m\u001B[43m)\u001B[49m\u001B[43m,\u001B[49m\u001B[43m \u001B[49m\u001B[43mcvxopt\u001B[49m\u001B[38;5;241;43m.\u001B[39;49m\u001B[43mmatrix\u001B[49m\u001B[43m(\u001B[49m\u001B[43mb\u001B[49m\u001B[43m)\u001B[49m\u001B[43m)\u001B[49m\n\u001B[1;32m     16\u001B[0m lambdas \u001B[38;5;241m=\u001B[39m np\u001B[38;5;241m.\u001B[39marray(sol[\u001B[38;5;124m'\u001B[39m\u001B[38;5;124mx\u001B[39m\u001B[38;5;124m'\u001B[39m])\n\u001B[1;32m     18\u001B[0m support_vectors_id \u001B[38;5;241m=\u001B[39m np\u001B[38;5;241m.\u001B[39mwhere(lambdas \u001B[38;5;241m>\u001B[39m threshold)[\u001B[38;5;241m0\u001B[39m]\n",
      "File \u001B[0;32m~/projects/ml/venv/lib/python3.10/site-packages/cvxopt/coneprog.py:4485\u001B[0m, in \u001B[0;36mqp\u001B[0;34m(P, q, G, h, A, b, solver, kktsolver, initvals, **kwargs)\u001B[0m\n\u001B[1;32m   4475\u001B[0m         pinfres, dinfres \u001B[38;5;241m=\u001B[39m \u001B[38;5;28;01mNone\u001B[39;00m, \u001B[38;5;28;01mNone\u001B[39;00m\n\u001B[1;32m   4477\u001B[0m     \u001B[38;5;28;01mreturn\u001B[39;00m {\u001B[38;5;124m'\u001B[39m\u001B[38;5;124mstatus\u001B[39m\u001B[38;5;124m'\u001B[39m: status, \u001B[38;5;124m'\u001B[39m\u001B[38;5;124mx\u001B[39m\u001B[38;5;124m'\u001B[39m: x, \u001B[38;5;124m'\u001B[39m\u001B[38;5;124ms\u001B[39m\u001B[38;5;124m'\u001B[39m: s, \u001B[38;5;124m'\u001B[39m\u001B[38;5;124my\u001B[39m\u001B[38;5;124m'\u001B[39m: y, \u001B[38;5;124m'\u001B[39m\u001B[38;5;124mz\u001B[39m\u001B[38;5;124m'\u001B[39m: z,\n\u001B[1;32m   4478\u001B[0m         \u001B[38;5;124m'\u001B[39m\u001B[38;5;124mprimal objective\u001B[39m\u001B[38;5;124m'\u001B[39m: pcost, \u001B[38;5;124m'\u001B[39m\u001B[38;5;124mdual objective\u001B[39m\u001B[38;5;124m'\u001B[39m: dcost,\n\u001B[1;32m   4479\u001B[0m         \u001B[38;5;124m'\u001B[39m\u001B[38;5;124mgap\u001B[39m\u001B[38;5;124m'\u001B[39m: gap, \u001B[38;5;124m'\u001B[39m\u001B[38;5;124mrelative gap\u001B[39m\u001B[38;5;124m'\u001B[39m: relgap,\n\u001B[0;32m   (...)\u001B[0m\n\u001B[1;32m   4482\u001B[0m         \u001B[38;5;124m'\u001B[39m\u001B[38;5;124mresidual as primal infeasibility certificate\u001B[39m\u001B[38;5;124m'\u001B[39m: pinfres,\n\u001B[1;32m   4483\u001B[0m         \u001B[38;5;124m'\u001B[39m\u001B[38;5;124mresidual as dual infeasibility certificate\u001B[39m\u001B[38;5;124m'\u001B[39m: dinfres}\n\u001B[0;32m-> 4485\u001B[0m \u001B[38;5;28;01mreturn\u001B[39;00m \u001B[43mconeqp\u001B[49m\u001B[43m(\u001B[49m\u001B[43mP\u001B[49m\u001B[43m,\u001B[49m\u001B[43m \u001B[49m\u001B[43mq\u001B[49m\u001B[43m,\u001B[49m\u001B[43m \u001B[49m\u001B[43mG\u001B[49m\u001B[43m,\u001B[49m\u001B[43m \u001B[49m\u001B[43mh\u001B[49m\u001B[43m,\u001B[49m\u001B[43m \u001B[49m\u001B[38;5;28;43;01mNone\u001B[39;49;00m\u001B[43m,\u001B[49m\u001B[43m \u001B[49m\u001B[43mA\u001B[49m\u001B[43m,\u001B[49m\u001B[43m  \u001B[49m\u001B[43mb\u001B[49m\u001B[43m,\u001B[49m\u001B[43m \u001B[49m\u001B[43minitvals\u001B[49m\u001B[43m,\u001B[49m\u001B[43m \u001B[49m\u001B[43mkktsolver\u001B[49m\u001B[43m \u001B[49m\u001B[38;5;241;43m=\u001B[39;49m\u001B[43m \u001B[49m\u001B[43mkktsolver\u001B[49m\u001B[43m,\u001B[49m\u001B[43m \u001B[49m\u001B[43moptions\u001B[49m\u001B[43m \u001B[49m\u001B[38;5;241;43m=\u001B[39;49m\u001B[43m \u001B[49m\u001B[43moptions\u001B[49m\u001B[43m)\u001B[49m\n",
      "File \u001B[0;32m~/projects/ml/venv/lib/python3.10/site-packages/cvxopt/coneprog.py:2067\u001B[0m, in \u001B[0;36mconeqp\u001B[0;34m(P, q, G, h, dims, A, b, initvals, kktsolver, xnewcopy, xdot, xaxpy, xscal, ynewcopy, ydot, yaxpy, yscal, **kwargs)\u001B[0m\n\u001B[1;32m   2065\u001B[0m \u001B[38;5;28;01mtry\u001B[39;00m: f \u001B[38;5;241m=\u001B[39m kktsolver(W)\n\u001B[1;32m   2066\u001B[0m \u001B[38;5;28;01mexcept\u001B[39;00m \u001B[38;5;167;01mArithmeticError\u001B[39;00m:\n\u001B[0;32m-> 2067\u001B[0m     \u001B[38;5;28;01mraise\u001B[39;00m \u001B[38;5;167;01mValueError\u001B[39;00m(\u001B[38;5;124m\"\u001B[39m\u001B[38;5;124mRank(A) < p or Rank([P; A; G]) < n\u001B[39m\u001B[38;5;124m\"\u001B[39m)\n\u001B[1;32m   2070\u001B[0m \u001B[38;5;66;03m# Solve\u001B[39;00m\n\u001B[1;32m   2071\u001B[0m \u001B[38;5;66;03m#\u001B[39;00m\n\u001B[1;32m   2072\u001B[0m \u001B[38;5;66;03m#     [ P   A'  G' ]   [ x ]   [ -q ]\u001B[39;00m\n\u001B[1;32m   2073\u001B[0m \u001B[38;5;66;03m#     [ A   0   0  ] * [ y ] = [  b ].\u001B[39;00m\n\u001B[1;32m   2074\u001B[0m \u001B[38;5;66;03m#     [ G   0  -I  ]   [ z ]   [  h ]\u001B[39;00m\n\u001B[1;32m   2076\u001B[0m xcopy(q, x)\n",
      "\u001B[0;31mValueError\u001B[0m: Rank(A) < p or Rank([P; A; G]) < n"
     ]
    }
   ],
   "source": [
    "iris = load_iris()\n",
    "labels = iris.target\n",
    "data_set = iris.data\n",
    "\n",
    "lambdas, support_vectors, support_vectors_id, b, targets, vector_number = train(train_data_set, train_labels, kernel_type='rbf')\n",
    "predicted = classify_rbf(test_data_set, train_data_set, lambdas, targets, b, vector_number, support_vectors, support_vectors_id)\n",
    "predicted = list(predicted.astype(int))\n",
    "\n",
    "from sklearn.metrics import accuracy_score\n",
    "\n",
    "print(accuracy_score(predicted, test_labels))"
   ]
  },
  {
   "cell_type": "code",
   "outputs": [],
   "source": [],
   "metadata": {
    "collapsed": false
   }
  }
 ],
 "metadata": {
  "kernelspec": {
   "display_name": "Python 3",
   "language": "python",
   "name": "python3"
  },
  "language_info": {
   "codemirror_mode": {
    "name": "ipython",
    "version": 3
   },
   "file_extension": ".py",
   "mimetype": "text/x-python",
   "name": "python",
   "nbconvert_exporter": "python",
   "pygments_lexer": "ipython3",
   "version": "3.7.3"
  }
 },
 "nbformat": 4,
 "nbformat_minor": 4
}
